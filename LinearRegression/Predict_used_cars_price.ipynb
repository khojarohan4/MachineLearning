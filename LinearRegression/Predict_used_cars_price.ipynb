{
 "cells": [
  {
   "cell_type": "code",
   "execution_count": 1,
   "metadata": {
    "colab": {},
    "colab_type": "code",
    "id": "39Is0it2xagK"
   },
   "outputs": [
    {
     "data": {
      "text/plain": [
       "price                     0\n",
       "name                      0\n",
       "yearOfRegistration        0\n",
       "monthOfRegistration       0\n",
       "gearbox                 577\n",
       "powerPS                   0\n",
       "model                   567\n",
       "kilometer                 0\n",
       "fuelType                943\n",
       "brand                     0\n",
       "vehicleType            1050\n",
       "dtype: int64"
      ]
     },
     "execution_count": 1,
     "metadata": {},
     "output_type": "execute_result"
    }
   ],
   "source": [
    "# 1. Load the cars dataset.\n",
    "import pandas as pd\n",
    "import matplotlib.pyplot as plt\n",
    "import numpy as np\n",
    "%matplotlib inline\n",
    "df = pd.read_csv('autos_small.csv')\n",
    "df.isna().sum()"
   ]
  },
  {
   "cell_type": "code",
   "execution_count": 4,
   "metadata": {},
   "outputs": [],
   "source": [
    "df['gearbox'] = df['gearbox'].fillna(value = 'not-Provided')\n",
    "df['fuelType'] = df['fuelType'].fillna(value = 'not-Provided')\n",
    "df['model'] = df['model'].fillna(value = 'not-Provided')\n",
    "df['vehicleType'] = df['vehicleType'].fillna(value = 'not-Provided')"
   ]
  },
  {
   "cell_type": "code",
   "execution_count": 5,
   "metadata": {},
   "outputs": [
    {
     "data": {
      "text/plain": [
       "price                  0\n",
       "name                   0\n",
       "yearOfRegistration     0\n",
       "monthOfRegistration    0\n",
       "gearbox                0\n",
       "powerPS                0\n",
       "model                  0\n",
       "kilometer              0\n",
       "fuelType               0\n",
       "brand                  0\n",
       "vehicleType            0\n",
       "dtype: int64"
      ]
     },
     "execution_count": 5,
     "metadata": {},
     "output_type": "execute_result"
    }
   ],
   "source": [
    "df.isna().sum()"
   ]
  },
  {
   "cell_type": "code",
   "execution_count": 8,
   "metadata": {
    "colab": {},
    "colab_type": "code",
    "id": "RB1wjuqdxagQ"
   },
   "outputs": [],
   "source": [
    "# 3. Complete any other preprocessing required.\n",
    "# We will be removing records where price is less than 100,powerps is less than 10 and year of \n",
    "#registration is less than 2000 and greate than current year. We will also remove duplicate values\n",
    "updated_df = df.drop_duplicates(['price', 'name', 'yearOfRegistration', 'monthOfRegistration', 'gearbox',\n",
    "       'powerPS', 'model', 'kilometer', 'fuelType', 'brand', 'vehicleType'])"
   ]
  },
  {
   "cell_type": "code",
   "execution_count": 9,
   "metadata": {},
   "outputs": [
    {
     "name": "stdout",
     "output_type": "stream",
     "text": [
      "<class 'pandas.core.frame.DataFrame'>\n",
      "Int64Index: 9985 entries, 0 to 9999\n",
      "Data columns (total 11 columns):\n",
      " #   Column               Non-Null Count  Dtype \n",
      "---  ------               --------------  ----- \n",
      " 0   price                9985 non-null   int64 \n",
      " 1   name                 9985 non-null   object\n",
      " 2   yearOfRegistration   9985 non-null   int64 \n",
      " 3   monthOfRegistration  9985 non-null   int64 \n",
      " 4   gearbox              9985 non-null   object\n",
      " 5   powerPS              9985 non-null   int64 \n",
      " 6   model                9985 non-null   object\n",
      " 7   kilometer            9985 non-null   int64 \n",
      " 8   fuelType             9985 non-null   object\n",
      " 9   brand                9985 non-null   object\n",
      " 10  vehicleType          9985 non-null   object\n",
      "dtypes: int64(5), object(6)\n",
      "memory usage: 936.1+ KB\n"
     ]
    }
   ],
   "source": [
    "updated_df.info() #15 records removed as they were duplicates"
   ]
  },
  {
   "cell_type": "code",
   "execution_count": 11,
   "metadata": {},
   "outputs": [],
   "source": [
    "updated_df = updated_df.drop(updated_df[(updated_df.price<100)|(updated_df.powerPS<20)|(updated_df.yearOfRegistration<1990)|(updated_df.yearOfRegistration>2020)|\n",
    "                                        (updated_df.powerPS>1600)|(updated_df.model == 'not-Provided')].index)\n",
    "# df = df.drop(df[(df.score < 50) & (df.score > 20)].index)"
   ]
  },
  {
   "cell_type": "code",
   "execution_count": 14,
   "metadata": {},
   "outputs": [
    {
     "name": "stdout",
     "output_type": "stream",
     "text": [
      "<class 'pandas.core.frame.DataFrame'>\n",
      "Int64Index: 8112 entries, 0 to 9999\n",
      "Data columns (total 11 columns):\n",
      " #   Column               Non-Null Count  Dtype \n",
      "---  ------               --------------  ----- \n",
      " 0   price                8112 non-null   int64 \n",
      " 1   name                 8112 non-null   object\n",
      " 2   yearOfRegistration   8112 non-null   int64 \n",
      " 3   monthOfRegistration  8112 non-null   int64 \n",
      " 4   gearbox              8112 non-null   object\n",
      " 5   powerPS              8112 non-null   int64 \n",
      " 6   model                8112 non-null   object\n",
      " 7   kilometer            8112 non-null   int64 \n",
      " 8   fuelType             8112 non-null   object\n",
      " 9   brand                8112 non-null   object\n",
      " 10  vehicleType          8112 non-null   object\n",
      "dtypes: int64(5), object(6)\n",
      "memory usage: 760.5+ KB\n"
     ]
    }
   ],
   "source": [
    "updated_df.info() # 1873 more records were removed based on above step"
   ]
  },
  {
   "cell_type": "code",
   "execution_count": 15,
   "metadata": {},
   "outputs": [
    {
     "data": {
      "text/plain": [
       "count    8.112000e+03\n",
       "mean     7.782208e+03\n",
       "std      1.372354e+05\n",
       "min      1.000000e+02\n",
       "25%      1.498000e+03\n",
       "50%      3.500000e+03\n",
       "75%      8.000000e+03\n",
       "max      1.234568e+07\n",
       "Name: price, dtype: float64"
      ]
     },
     "execution_count": 15,
     "metadata": {},
     "output_type": "execute_result"
    }
   ],
   "source": [
    "updated_df['price'].describe()"
   ]
  },
  {
   "cell_type": "code",
   "execution_count": 16,
   "metadata": {},
   "outputs": [
    {
     "data": {
      "text/html": [
       "<div>\n",
       "<style scoped>\n",
       "    .dataframe tbody tr th:only-of-type {\n",
       "        vertical-align: middle;\n",
       "    }\n",
       "\n",
       "    .dataframe tbody tr th {\n",
       "        vertical-align: top;\n",
       "    }\n",
       "\n",
       "    .dataframe thead th {\n",
       "        text-align: right;\n",
       "    }\n",
       "</style>\n",
       "<table border=\"1\" class=\"dataframe\">\n",
       "  <thead>\n",
       "    <tr style=\"text-align: right;\">\n",
       "      <th></th>\n",
       "      <th>price</th>\n",
       "      <th>name</th>\n",
       "      <th>yearOfRegistration</th>\n",
       "      <th>monthOfRegistration</th>\n",
       "      <th>gearbox</th>\n",
       "      <th>powerPS</th>\n",
       "      <th>model</th>\n",
       "      <th>kilometer</th>\n",
       "      <th>fuelType</th>\n",
       "      <th>brand</th>\n",
       "      <th>vehicleType</th>\n",
       "    </tr>\n",
       "  </thead>\n",
       "  <tbody>\n",
       "    <tr>\n",
       "      <th>0</th>\n",
       "      <td>400</td>\n",
       "      <td>Ford_Escort</td>\n",
       "      <td>1992</td>\n",
       "      <td>8</td>\n",
       "      <td>manuell</td>\n",
       "      <td>89</td>\n",
       "      <td>escort</td>\n",
       "      <td>60000</td>\n",
       "      <td>benzin</td>\n",
       "      <td>ford</td>\n",
       "      <td>kombi</td>\n",
       "    </tr>\n",
       "    <tr>\n",
       "      <th>1</th>\n",
       "      <td>3500</td>\n",
       "      <td>Bmw_320_cabrio</td>\n",
       "      <td>1996</td>\n",
       "      <td>0</td>\n",
       "      <td>manuell</td>\n",
       "      <td>150</td>\n",
       "      <td>3er</td>\n",
       "      <td>125000</td>\n",
       "      <td>not-Provided</td>\n",
       "      <td>bmw</td>\n",
       "      <td>cabrio</td>\n",
       "    </tr>\n",
       "    <tr>\n",
       "      <th>2</th>\n",
       "      <td>2200</td>\n",
       "      <td>Mercedes_C_230_T_im_top_Zustand_Tuev_Neu!!_Win...</td>\n",
       "      <td>1998</td>\n",
       "      <td>0</td>\n",
       "      <td>manuell</td>\n",
       "      <td>150</td>\n",
       "      <td>c_klasse</td>\n",
       "      <td>150000</td>\n",
       "      <td>benzin</td>\n",
       "      <td>mercedes_benz</td>\n",
       "      <td>kombi</td>\n",
       "    </tr>\n",
       "    <tr>\n",
       "      <th>4</th>\n",
       "      <td>2600</td>\n",
       "      <td>Smart_Smart_cabrio_450_cdi</td>\n",
       "      <td>2002</td>\n",
       "      <td>7</td>\n",
       "      <td>automatik</td>\n",
       "      <td>41</td>\n",
       "      <td>fortwo</td>\n",
       "      <td>150000</td>\n",
       "      <td>diesel</td>\n",
       "      <td>smart</td>\n",
       "      <td>cabrio</td>\n",
       "    </tr>\n",
       "    <tr>\n",
       "      <th>5</th>\n",
       "      <td>2222</td>\n",
       "      <td>BMW_318ti_compact</td>\n",
       "      <td>2001</td>\n",
       "      <td>10</td>\n",
       "      <td>manuell</td>\n",
       "      <td>143</td>\n",
       "      <td>3er</td>\n",
       "      <td>150000</td>\n",
       "      <td>benzin</td>\n",
       "      <td>bmw</td>\n",
       "      <td>limousine</td>\n",
       "    </tr>\n",
       "  </tbody>\n",
       "</table>\n",
       "</div>"
      ],
      "text/plain": [
       "   price                                               name  \\\n",
       "0    400                                        Ford_Escort   \n",
       "1   3500                                     Bmw_320_cabrio   \n",
       "2   2200  Mercedes_C_230_T_im_top_Zustand_Tuev_Neu!!_Win...   \n",
       "4   2600                         Smart_Smart_cabrio_450_cdi   \n",
       "5   2222                                  BMW_318ti_compact   \n",
       "\n",
       "   yearOfRegistration  monthOfRegistration    gearbox  powerPS     model  \\\n",
       "0                1992                    8    manuell       89    escort   \n",
       "1                1996                    0    manuell      150       3er   \n",
       "2                1998                    0    manuell      150  c_klasse   \n",
       "4                2002                    7  automatik       41    fortwo   \n",
       "5                2001                   10    manuell      143       3er   \n",
       "\n",
       "   kilometer      fuelType          brand vehicleType  \n",
       "0      60000        benzin           ford       kombi  \n",
       "1     125000  not-Provided            bmw      cabrio  \n",
       "2     150000        benzin  mercedes_benz       kombi  \n",
       "4     150000        diesel          smart      cabrio  \n",
       "5     150000        benzin            bmw   limousine  "
      ]
     },
     "execution_count": 16,
     "metadata": {},
     "output_type": "execute_result"
    }
   ],
   "source": [
    "updated_df.head()"
   ]
  },
  {
   "cell_type": "code",
   "execution_count": 17,
   "metadata": {},
   "outputs": [],
   "source": [
    "#Get the age from year of registration and month of registration\n",
    "updated_df['age'] = (2020-updated_df['yearOfRegistration']) + updated_df['monthOfRegistration']/12"
   ]
  },
  {
   "cell_type": "code",
   "execution_count": 18,
   "metadata": {},
   "outputs": [],
   "source": [
    "updated_df = updated_df.drop(['monthOfRegistration','name','yearOfRegistration','brand'],axis = 1)"
   ]
  },
  {
   "cell_type": "code",
   "execution_count": 21,
   "metadata": {},
   "outputs": [
    {
     "data": {
      "text/plain": [
       "15.000000    84\n",
       "22.000000    82\n",
       "21.000000    81\n",
       "20.000000    72\n",
       "14.000000    63\n",
       "             ..\n",
       "27.166667     1\n",
       "28.833333     1\n",
       "1.000000      1\n",
       "1.333333      1\n",
       "30.750000     1\n",
       "Name: age, Length: 350, dtype: int64"
      ]
     },
     "execution_count": 21,
     "metadata": {},
     "output_type": "execute_result"
    }
   ],
   "source": [
    "updated_df['age'].value_counts()"
   ]
  },
  {
   "cell_type": "code",
   "execution_count": 22,
   "metadata": {},
   "outputs": [],
   "source": [
    "import seaborn as sns"
   ]
  },
  {
   "cell_type": "code",
   "execution_count": 23,
   "metadata": {},
   "outputs": [
    {
     "data": {
      "text/plain": [
       "<matplotlib.axes._subplots.AxesSubplot at 0x1d9e129a128>"
      ]
     },
     "execution_count": 23,
     "metadata": {},
     "output_type": "execute_result"
    },
    {
     "data": {
      "image/png": "[encoded data removed]",
      "text/plain": [
       "<Figure size 432x288 with 2 Axes>"
      ]
     },
     "metadata": {
      "needs_background": "light"
     },
     "output_type": "display_data"
    }
   ],
   "source": [
    "sns.heatmap(updated_df.corr(),annot = True)"
   ]
  },
  {
   "cell_type": "code",
   "execution_count": 24,
   "metadata": {},
   "outputs": [
    {
     "name": "stdout",
     "output_type": "stream",
     "text": [
      "<class 'pandas.core.frame.DataFrame'>\n",
      "Int64Index: 8112 entries, 0 to 9999\n",
      "Data columns (total 8 columns):\n",
      " #   Column       Non-Null Count  Dtype  \n",
      "---  ------       --------------  -----  \n",
      " 0   price        8112 non-null   int64  \n",
      " 1   gearbox      8112 non-null   object \n",
      " 2   powerPS      8112 non-null   int64  \n",
      " 3   model        8112 non-null   object \n",
      " 4   kilometer    8112 non-null   int64  \n",
      " 5   fuelType     8112 non-null   object \n",
      " 6   vehicleType  8112 non-null   object \n",
      " 7   age          8112 non-null   float64\n",
      "dtypes: float64(1), int64(3), object(4)\n",
      "memory usage: 570.4+ KB\n"
     ]
    }
   ],
   "source": [
    "updated_df.info()"
   ]
  },
  {
   "cell_type": "code",
   "execution_count": 25,
   "metadata": {},
   "outputs": [],
   "source": [
    "updated_df = updated_df.astype({'gearbox':'category','fuelType':'category','vehicleType':'category','model':'category'})\n"
   ]
  },
  {
   "cell_type": "code",
   "execution_count": 26,
   "metadata": {},
   "outputs": [],
   "source": [
    "from sklearn.preprocessing import LabelEncoder"
   ]
  },
  {
   "cell_type": "code",
   "execution_count": 27,
   "metadata": {},
   "outputs": [],
   "source": [
    "labelencoder = LabelEncoder()"
   ]
  },
  {
   "cell_type": "code",
   "execution_count": 28,
   "metadata": {},
   "outputs": [],
   "source": [
    "updated_df['gearbox_Cat'] = labelencoder.fit_transform(updated_df['gearbox'])\n",
    "updated_df['fuelType_Cat'] = labelencoder.fit_transform(updated_df['fuelType'])\n",
    "updated_df['vehicleType_cat'] = labelencoder.fit_transform(updated_df['vehicleType'])\n",
    "# updated_df['brand_cat'] = labelencoder.fit_transform(updated_df['brand'])\n",
    "updated_df['model_cat'] = labelencoder.fit_transform(updated_df['model'])\n"
   ]
  },
  {
   "cell_type": "code",
   "execution_count": 31,
   "metadata": {},
   "outputs": [],
   "source": [
    "updated_df = updated_df.drop(['gearbox','fuelType','model','vehicleType'],axis = 1)"
   ]
  },
  {
   "cell_type": "code",
   "execution_count": 32,
   "metadata": {},
   "outputs": [
    {
     "data": {
      "text/html": [
       "<div>\n",
       "<style scoped>\n",
       "    .dataframe tbody tr th:only-of-type {\n",
       "        vertical-align: middle;\n",
       "    }\n",
       "\n",
       "    .dataframe tbody tr th {\n",
       "        vertical-align: top;\n",
       "    }\n",
       "\n",
       "    .dataframe thead th {\n",
       "        text-align: right;\n",
       "    }\n",
       "</style>\n",
       "<table border=\"1\" class=\"dataframe\">\n",
       "  <thead>\n",
       "    <tr style=\"text-align: right;\">\n",
       "      <th></th>\n",
       "      <th>price</th>\n",
       "      <th>powerPS</th>\n",
       "      <th>kilometer</th>\n",
       "      <th>age</th>\n",
       "      <th>gearbox_Cat</th>\n",
       "      <th>fuelType_Cat</th>\n",
       "      <th>vehicleType_cat</th>\n",
       "      <th>model_cat</th>\n",
       "    </tr>\n",
       "  </thead>\n",
       "  <tbody>\n",
       "    <tr>\n",
       "      <th>0</th>\n",
       "      <td>400</td>\n",
       "      <td>89</td>\n",
       "      <td>60000</td>\n",
       "      <td>28.666667</td>\n",
       "      <td>1</td>\n",
       "      <td>1</td>\n",
       "      <td>5</td>\n",
       "      <td>90</td>\n",
       "    </tr>\n",
       "    <tr>\n",
       "      <th>1</th>\n",
       "      <td>3500</td>\n",
       "      <td>150</td>\n",
       "      <td>125000</td>\n",
       "      <td>24.000000</td>\n",
       "      <td>1</td>\n",
       "      <td>6</td>\n",
       "      <td>2</td>\n",
       "      <td>9</td>\n",
       "    </tr>\n",
       "    <tr>\n",
       "      <th>2</th>\n",
       "      <td>2200</td>\n",
       "      <td>150</td>\n",
       "      <td>150000</td>\n",
       "      <td>22.000000</td>\n",
       "      <td>1</td>\n",
       "      <td>1</td>\n",
       "      <td>5</td>\n",
       "      <td>55</td>\n",
       "    </tr>\n",
       "    <tr>\n",
       "      <th>4</th>\n",
       "      <td>2600</td>\n",
       "      <td>41</td>\n",
       "      <td>150000</td>\n",
       "      <td>18.583333</td>\n",
       "      <td>0</td>\n",
       "      <td>3</td>\n",
       "      <td>2</td>\n",
       "      <td>98</td>\n",
       "    </tr>\n",
       "    <tr>\n",
       "      <th>5</th>\n",
       "      <td>2222</td>\n",
       "      <td>143</td>\n",
       "      <td>150000</td>\n",
       "      <td>19.833333</td>\n",
       "      <td>1</td>\n",
       "      <td>1</td>\n",
       "      <td>6</td>\n",
       "      <td>9</td>\n",
       "    </tr>\n",
       "  </tbody>\n",
       "</table>\n",
       "</div>"
      ],
      "text/plain": [
       "   price  powerPS  kilometer        age  gearbox_Cat  fuelType_Cat  \\\n",
       "0    400       89      60000  28.666667            1             1   \n",
       "1   3500      150     125000  24.000000            1             6   \n",
       "2   2200      150     150000  22.000000            1             1   \n",
       "4   2600       41     150000  18.583333            0             3   \n",
       "5   2222      143     150000  19.833333            1             1   \n",
       "\n",
       "   vehicleType_cat  model_cat  \n",
       "0                5         90  \n",
       "1                2          9  \n",
       "2                5         55  \n",
       "4                2         98  \n",
       "5                6          9  "
      ]
     },
     "execution_count": 32,
     "metadata": {},
     "output_type": "execute_result"
    }
   ],
   "source": [
    "updated_df.head()"
   ]
  },
  {
   "cell_type": "code",
   "execution_count": 33,
   "metadata": {
    "colab": {},
    "colab_type": "code",
    "id": "r5hv6nboxagT"
   },
   "outputs": [],
   "source": [
    "# 4. Apply various regression models and find out which model is the best for this dataset\n",
    "from sklearn.linear_model import LinearRegression , Lasso , ridge_regression , ElasticNet , Ridge\n",
    "# from sklearn.tree import DecisionTreeRegressor\n",
    "from sklearn.model_selection import train_test_split\n",
    "from sklearn.model_selection import GridSearchCV , RandomizedSearchCV\n",
    "from sklearn import metrics"
   ]
  },
  {
   "cell_type": "code",
   "execution_count": 34,
   "metadata": {},
   "outputs": [],
   "source": [
    "features = updated_df.drop(['price'],axis = 1)"
   ]
  },
  {
   "cell_type": "code",
   "execution_count": 35,
   "metadata": {},
   "outputs": [
    {
     "data": {
      "text/plain": [
       "array([8.90000000e+01, 6.00000000e+04, 2.86666667e+01, 1.00000000e+00,\n",
       "       1.00000000e+00, 5.00000000e+00, 9.00000000e+01])"
      ]
     },
     "execution_count": 35,
     "metadata": {},
     "output_type": "execute_result"
    }
   ],
   "source": [
    "features.values[0]"
   ]
  },
  {
   "cell_type": "code",
   "execution_count": 36,
   "metadata": {},
   "outputs": [],
   "source": [
    "target = updated_df['price']"
   ]
  },
  {
   "cell_type": "code",
   "execution_count": 37,
   "metadata": {},
   "outputs": [],
   "source": [
    "target = np.log(target)"
   ]
  },
  {
   "cell_type": "code",
   "execution_count": 38,
   "metadata": {},
   "outputs": [
    {
     "data": {
      "text/plain": [
       "array([5.99146455, 8.16051825, 7.69621264, ..., 7.31322039, 6.87729607,\n",
       "       8.98594604])"
      ]
     },
     "execution_count": 38,
     "metadata": {},
     "output_type": "execute_result"
    }
   ],
   "source": [
    "target.values"
   ]
  },
  {
   "cell_type": "code",
   "execution_count": 39,
   "metadata": {},
   "outputs": [
    {
     "data": {
      "text/plain": [
       "0    5.991465\n",
       "1    8.160518\n",
       "Name: price, dtype: float64"
      ]
     },
     "execution_count": 39,
     "metadata": {},
     "output_type": "execute_result"
    }
   ],
   "source": [
    "target.head(2)"
   ]
  },
  {
   "cell_type": "code",
   "execution_count": 40,
   "metadata": {},
   "outputs": [],
   "source": [
    "X_train , X_test , Y_train , Y_test = train_test_split(features.values , target.values,random_state = 123,test_size=0.33)"
   ]
  },
  {
   "cell_type": "code",
   "execution_count": 41,
   "metadata": {},
   "outputs": [
    {
     "data": {
      "text/plain": [
       "array([6.80239476, 9.33246951, 8.61250337, ..., 7.82003799, 7.77863015,\n",
       "       9.29651807])"
      ]
     },
     "execution_count": 41,
     "metadata": {},
     "output_type": "execute_result"
    }
   ],
   "source": [
    "Y_train"
   ]
  },
  {
   "cell_type": "code",
   "execution_count": 42,
   "metadata": {},
   "outputs": [
    {
     "data": {
      "text/plain": [
       "array([7.09007684, 9.60911649, 5.85793315, ..., 7.90100705, 8.85352256,\n",
       "       8.61250337])"
      ]
     },
     "execution_count": 42,
     "metadata": {},
     "output_type": "execute_result"
    }
   ],
   "source": [
    "Y_test"
   ]
  },
  {
   "cell_type": "markdown",
   "metadata": {},
   "source": [
    "# Linear Regression"
   ]
  },
  {
   "cell_type": "code",
   "execution_count": 43,
   "metadata": {},
   "outputs": [],
   "source": [
    "model_LR = LinearRegression()# Ridge"
   ]
  },
  {
   "cell_type": "code",
   "execution_count": 44,
   "metadata": {},
   "outputs": [
    {
     "data": {
      "text/plain": [
       "LinearRegression(copy_X=True, fit_intercept=True, n_jobs=None, normalize=False)"
      ]
     },
     "execution_count": 44,
     "metadata": {},
     "output_type": "execute_result"
    }
   ],
   "source": [
    "model_LR.fit(X_train , Y_train)"
   ]
  },
  {
   "cell_type": "code",
   "execution_count": 45,
   "metadata": {},
   "outputs": [],
   "source": [
    "result_LR = model_LR.predict(X_test)"
   ]
  },
  {
   "cell_type": "code",
   "execution_count": 46,
   "metadata": {},
   "outputs": [
    {
     "data": {
      "text/plain": [
       "0.5357094953207729"
      ]
     },
     "execution_count": 46,
     "metadata": {},
     "output_type": "execute_result"
    }
   ],
   "source": [
    "metrics.mean_absolute_error(Y_test , result_LR)"
   ]
  },
  {
   "cell_type": "code",
   "execution_count": 47,
   "metadata": {},
   "outputs": [
    {
     "data": {
      "text/plain": [
       "0.6049134309077497"
      ]
     },
     "execution_count": 47,
     "metadata": {},
     "output_type": "execute_result"
    }
   ],
   "source": [
    "metrics.r2_score(Y_test , result_LR)"
   ]
  },
  {
   "cell_type": "markdown",
   "metadata": {},
   "source": [
    "# Random Forest"
   ]
  },
  {
   "cell_type": "code",
   "execution_count": 50,
   "metadata": {},
   "outputs": [],
   "source": [
    "from sklearn.ensemble import RandomForestRegressor"
   ]
  },
  {
   "cell_type": "code",
   "execution_count": 51,
   "metadata": {},
   "outputs": [
    {
     "data": {
      "text/plain": [
       "0.7829664416039481"
      ]
     },
     "execution_count": 51,
     "metadata": {},
     "output_type": "execute_result"
    }
   ],
   "source": [
    "rfr = RandomForestRegressor()\n",
    "rfr.fit(X_train, Y_train)\n",
    "rfr.score(X_test, Y_test)"
   ]
  },
  {
   "cell_type": "markdown",
   "metadata": {},
   "source": [
    "# Lasso"
   ]
  },
  {
   "cell_type": "code",
   "execution_count": 52,
   "metadata": {},
   "outputs": [],
   "source": [
    "model_L = Lasso(alpha= 0.3)"
   ]
  },
  {
   "cell_type": "code",
   "execution_count": 53,
   "metadata": {},
   "outputs": [
    {
     "data": {
      "text/plain": [
       "Lasso(alpha=0.3, copy_X=True, fit_intercept=True, max_iter=1000,\n",
       "      normalize=False, positive=False, precompute=False, random_state=None,\n",
       "      selection='cyclic', tol=0.0001, warm_start=False)"
      ]
     },
     "execution_count": 53,
     "metadata": {},
     "output_type": "execute_result"
    }
   ],
   "source": [
    "model_L.fit(X_train , Y_train)"
   ]
  },
  {
   "cell_type": "code",
   "execution_count": 54,
   "metadata": {},
   "outputs": [],
   "source": [
    "result_lasso = model_L.predict(X_test)"
   ]
  },
  {
   "cell_type": "code",
   "execution_count": 55,
   "metadata": {},
   "outputs": [
    {
     "data": {
      "text/plain": [
       "0.5571188118173463"
      ]
     },
     "execution_count": 55,
     "metadata": {},
     "output_type": "execute_result"
    }
   ],
   "source": [
    "metrics.mean_absolute_error(Y_test , result_lasso)"
   ]
  },
  {
   "cell_type": "code",
   "execution_count": 56,
   "metadata": {},
   "outputs": [
    {
     "data": {
      "text/plain": [
       "0.5790311897795024"
      ]
     },
     "execution_count": 56,
     "metadata": {},
     "output_type": "execute_result"
    }
   ],
   "source": [
    "metrics.r2_score(Y_test , result_lasso)"
   ]
  },
  {
   "cell_type": "markdown",
   "metadata": {},
   "source": [
    "# Ridge"
   ]
  },
  {
   "cell_type": "code",
   "execution_count": 57,
   "metadata": {},
   "outputs": [
    {
     "data": {
      "text/plain": [
       "0.6049128572767872"
      ]
     },
     "execution_count": 57,
     "metadata": {},
     "output_type": "execute_result"
    }
   ],
   "source": [
    "model_R = Ridge(alpha= 0.3)\n",
    "model_R.fit(X_train , Y_train)\n",
    "result_ridge = model_R.predict(X_test)\n",
    "metrics.mean_absolute_error(Y_test , result_ridge)\n",
    "metrics.r2_score(Y_test , result_ridge)"
   ]
  },
  {
   "cell_type": "markdown",
   "metadata": {},
   "source": [
    "# ElastiNet"
   ]
  },
  {
   "cell_type": "code",
   "execution_count": 58,
   "metadata": {},
   "outputs": [
    {
     "data": {
      "text/plain": [
       "0.5953987920683483"
      ]
     },
     "execution_count": 58,
     "metadata": {},
     "output_type": "execute_result"
    }
   ],
   "source": [
    "model_Elas = ElasticNet(alpha= 0.2 , l1_ratio= 0.4)\n",
    "model_Elas.fit(X_train , Y_train)\n",
    "result_elas = model_Elas.predict(X_test)\n",
    "metrics.mean_absolute_error(Y_test , result_elas)\n",
    "metrics.r2_score(Y_test , result_elas)"
   ]
  },
  {
   "cell_type": "markdown",
   "metadata": {},
   "source": [
    "# With all the models used, we found that random forest worked well for this dataset"
   ]
  },
  {
   "cell_type": "code",
   "execution_count": 59,
   "metadata": {
    "colab": {},
    "colab_type": "code",
    "id": "4gHkzTNWxagW"
   },
   "outputs": [],
   "source": [
    "# 5. Apply different Outlier detection methods and choose best approach to treat outliers "
   ]
  },
  {
   "cell_type": "markdown",
   "metadata": {},
   "source": [
    "#We already made quite pre-processing from removing extreme values,\n",
    "minimizing no of clolumns which wouldnt be relavent and feature engineered from exisiting columns"
   ]
  },
  {
   "cell_type": "code",
   "execution_count": 76,
   "metadata": {
    "colab": {},
    "colab_type": "code",
    "id": "taS7lIk7xsFC"
   },
   "outputs": [],
   "source": [
    "# 6. Apply Variance Inflation Factors calculation and find if the model built has collinearity between different variables\n"
   ]
  },
  {
   "cell_type": "code",
   "execution_count": 72,
   "metadata": {},
   "outputs": [],
   "source": [
    "from statsmodels.stats.outliers_influence import variance_inflation_factor"
   ]
  },
  {
   "cell_type": "code",
   "execution_count": 73,
   "metadata": {},
   "outputs": [],
   "source": [
    "def calc_vif(X):\n",
    "\n",
    "    # Calculating VIF\n",
    "    vif = pd.DataFrame()\n",
    "    vif[\"variables\"] = X.columns\n",
    "    vif[\"VIF\"] = [variance_inflation_factor(X.values, i) for i in range(X.shape[1])]\n",
    "\n",
    "    return(vif)"
   ]
  },
  {
   "cell_type": "code",
   "execution_count": 75,
   "metadata": {},
   "outputs": [
    {
     "data": {
      "text/html": [
       "<div>\n",
       "<style scoped>\n",
       "    .dataframe tbody tr th:only-of-type {\n",
       "        vertical-align: middle;\n",
       "    }\n",
       "\n",
       "    .dataframe tbody tr th {\n",
       "        vertical-align: top;\n",
       "    }\n",
       "\n",
       "    .dataframe thead th {\n",
       "        text-align: right;\n",
       "    }\n",
       "</style>\n",
       "<table border=\"1\" class=\"dataframe\">\n",
       "  <thead>\n",
       "    <tr style=\"text-align: right;\">\n",
       "      <th></th>\n",
       "      <th>variables</th>\n",
       "      <th>VIF</th>\n",
       "    </tr>\n",
       "  </thead>\n",
       "  <tbody>\n",
       "    <tr>\n",
       "      <th>0</th>\n",
       "      <td>powerPS</td>\n",
       "      <td>4.359413</td>\n",
       "    </tr>\n",
       "    <tr>\n",
       "      <th>1</th>\n",
       "      <td>kilometer</td>\n",
       "      <td>14.229145</td>\n",
       "    </tr>\n",
       "    <tr>\n",
       "      <th>2</th>\n",
       "      <td>age</td>\n",
       "      <td>9.621458</td>\n",
       "    </tr>\n",
       "    <tr>\n",
       "      <th>3</th>\n",
       "      <td>gearbox_Cat</td>\n",
       "      <td>3.923292</td>\n",
       "    </tr>\n",
       "    <tr>\n",
       "      <th>4</th>\n",
       "      <td>fuelType_Cat</td>\n",
       "      <td>3.202648</td>\n",
       "    </tr>\n",
       "    <tr>\n",
       "      <th>5</th>\n",
       "      <td>vehicleType_cat</td>\n",
       "      <td>6.099897</td>\n",
       "    </tr>\n",
       "    <tr>\n",
       "      <th>6</th>\n",
       "      <td>model_cat</td>\n",
       "      <td>2.691151</td>\n",
       "    </tr>\n",
       "  </tbody>\n",
       "</table>\n",
       "</div>"
      ],
      "text/plain": [
       "         variables        VIF\n",
       "0          powerPS   4.359413\n",
       "1        kilometer  14.229145\n",
       "2              age   9.621458\n",
       "3      gearbox_Cat   3.923292\n",
       "4     fuelType_Cat   3.202648\n",
       "5  vehicleType_cat   6.099897\n",
       "6        model_cat   2.691151"
      ]
     },
     "execution_count": 75,
     "metadata": {},
     "output_type": "execute_result"
    }
   ],
   "source": [
    "calc_vif(features)"
   ]
  },
  {
   "cell_type": "markdown",
   "metadata": {},
   "source": [
    "# From the above we see that age,kilometer,vehicletype has high multi colinearity"
   ]
  },
  {
   "cell_type": "code",
   "execution_count": null,
   "metadata": {},
   "outputs": [],
   "source": []
  }
 ],
 "metadata": {
  "colab": {
   "collapsed_sections": [],
   "name": "Stats & ML Assignment Part 2.ipynb",
   "provenance": [],
   "version": "0.3.2"
  },
  "kernelspec": {
   "display_name": "Python 3",
   "language": "python",
   "name": "python3"
  },
  "language_info": {
   "codemirror_mode": {
    "name": "ipython",
    "version": 3
   },
   "file_extension": ".py",
   "mimetype": "text/x-python",
   "name": "python",
   "nbconvert_exporter": "python",
   "pygments_lexer": "ipython3",
   "version": "3.7.3"
  }
 },
 "nbformat": 4,
 "nbformat_minor": 1
}
